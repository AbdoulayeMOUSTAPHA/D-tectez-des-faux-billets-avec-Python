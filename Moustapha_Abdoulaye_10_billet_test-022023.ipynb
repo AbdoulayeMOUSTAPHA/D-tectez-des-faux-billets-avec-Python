{
 "cells": [
  {
   "attachments": {
    "Hauteur%2023.png": {
     "image/png": "[encoded data removed]"
    }
   },
   "cell_type": "markdown",
   "id": "32c7babb",
   "metadata": {},
   "source": [
    "![Hauteur%2023.png](attachment:Hauteur%2023.png)"
   ]
  },
  {
   "cell_type": "markdown",
   "id": "6b4c4ff4",
   "metadata": {},
   "source": [
    "### I. Importation des librairies"
   ]
  },
  {
   "cell_type": "code",
   "execution_count": 1,
   "id": "4315ac54",
   "metadata": {},
   "outputs": [],
   "source": [
    "import pandas as pd\n",
    "import numpy as np\n",
    "import pickle\n",
    "from sklearn.preprocessing import StandardScaler\n",
    "from sklearn.calibration import calibration_curve\n",
    "import statsmodels.api as sm"
   ]
  },
  {
   "cell_type": "markdown",
   "id": "778beab0",
   "metadata": {},
   "source": [
    "### II. Ajouter les prédictions au dataframe d’origine"
   ]
  },
  {
   "cell_type": "code",
   "execution_count": 2,
   "id": "abae5497",
   "metadata": {},
   "outputs": [],
   "source": [
    "def prediction_fichier(nom_fichier):\n",
    "    \n",
    "    # 1ere etape : Importer un fichier generique\n",
    "\n",
    "    billets_a_predire = pd.read_csv(nom_fichier)\n",
    "\n",
    "    # 2eme etape : Importer le modele\n",
    "    model = pickle.load(open('model_reg_log.pkl','rb'))\n",
    "\n",
    "\n",
    "    # 3eme etape standardiser les données\n",
    "    x = billets_a_predire[[\"height_right\",\"margin_low\", \"margin_up\", \"length\"]]\n",
    "\n",
    "    # 4eme etape appel du modele\n",
    "    x =sm.add_constant(x)\n",
    "\n",
    "    # 5eme etape calcul probabilité vrai billet\n",
    "    proba_predict = model.predict(x)\n",
    "\n",
    "    # 6eme classe predite\n",
    "    y_pred = (model.predict(x) >= 0.5).astype(int)\n",
    "\n",
    "    # 7eme renomons les colonnes\n",
    "\n",
    "    billets_a_predire['proba_vrai'] = proba_predict * 100\n",
    "    billets_a_predire['classe_predite'] = y_pred\n",
    "#     print(billets_a_predire[[\"id\",'proba_vrai','classe_predite']])\n",
    "\n",
    "#     # Affichage des resultats:\n",
    "#     print(\"\\nIndetification des billets:\")\n",
    "#     for i, k in zip(billets_a_predire['classe_predite'],billets_a_predire[\"id\"]):\n",
    "#         if i == 1:\n",
    "#             print(\"Le billet\",\"{}\".format(k),\"Vrai billet\")\n",
    "#         else: \n",
    "#             print(\"Le billet\",\"{}\".format(k),\"Faux billet\")\n",
    "\n",
    "    return billets_a_predire      "
   ]
  },
  {
   "cell_type": "code",
   "execution_count": 7,
   "id": "16503598",
   "metadata": {},
   "outputs": [
    {
     "name": "stderr",
     "output_type": "stream",
     "text": [
      "C:\\Users\\moust\\anaconda3\\lib\\site-packages\\statsmodels\\tsa\\tsatools.py:142: FutureWarning: In a future version of pandas all arguments of concat except for the argument 'objs' will be keyword-only\n",
      "  x = pd.concat(x[::order], 1)\n"
     ]
    },
    {
     "data": {
      "text/html": [
       "<div>\n",
       "<style scoped>\n",
       "    .dataframe tbody tr th:only-of-type {\n",
       "        vertical-align: middle;\n",
       "    }\n",
       "\n",
       "    .dataframe tbody tr th {\n",
       "        vertical-align: top;\n",
       "    }\n",
       "\n",
       "    .dataframe thead th {\n",
       "        text-align: right;\n",
       "    }\n",
       "</style>\n",
       "<table border=\"1\" class=\"dataframe\">\n",
       "  <thead>\n",
       "    <tr style=\"text-align: right;\">\n",
       "      <th></th>\n",
       "      <th>diagonal</th>\n",
       "      <th>height_left</th>\n",
       "      <th>height_right</th>\n",
       "      <th>margin_low</th>\n",
       "      <th>margin_up</th>\n",
       "      <th>length</th>\n",
       "      <th>id</th>\n",
       "      <th>proba_vrai</th>\n",
       "      <th>classe_predite</th>\n",
       "    </tr>\n",
       "  </thead>\n",
       "  <tbody>\n",
       "    <tr>\n",
       "      <th>0</th>\n",
       "      <td>171.76</td>\n",
       "      <td>104.01</td>\n",
       "      <td>103.54</td>\n",
       "      <td>5.21</td>\n",
       "      <td>3.30</td>\n",
       "      <td>111.42</td>\n",
       "      <td>A_1</td>\n",
       "      <td>0.004105</td>\n",
       "      <td>0</td>\n",
       "    </tr>\n",
       "    <tr>\n",
       "      <th>1</th>\n",
       "      <td>171.87</td>\n",
       "      <td>104.17</td>\n",
       "      <td>104.13</td>\n",
       "      <td>6.00</td>\n",
       "      <td>3.31</td>\n",
       "      <td>112.09</td>\n",
       "      <td>A_2</td>\n",
       "      <td>0.000340</td>\n",
       "      <td>0</td>\n",
       "    </tr>\n",
       "    <tr>\n",
       "      <th>2</th>\n",
       "      <td>172.00</td>\n",
       "      <td>104.58</td>\n",
       "      <td>104.29</td>\n",
       "      <td>4.99</td>\n",
       "      <td>3.39</td>\n",
       "      <td>111.57</td>\n",
       "      <td>A_3</td>\n",
       "      <td>0.001873</td>\n",
       "      <td>0</td>\n",
       "    </tr>\n",
       "    <tr>\n",
       "      <th>3</th>\n",
       "      <td>172.49</td>\n",
       "      <td>104.55</td>\n",
       "      <td>104.34</td>\n",
       "      <td>4.44</td>\n",
       "      <td>3.03</td>\n",
       "      <td>113.20</td>\n",
       "      <td>A_4</td>\n",
       "      <td>99.670829</td>\n",
       "      <td>1</td>\n",
       "    </tr>\n",
       "    <tr>\n",
       "      <th>4</th>\n",
       "      <td>171.65</td>\n",
       "      <td>103.63</td>\n",
       "      <td>103.56</td>\n",
       "      <td>3.77</td>\n",
       "      <td>3.16</td>\n",
       "      <td>113.33</td>\n",
       "      <td>A_5</td>\n",
       "      <td>99.998844</td>\n",
       "      <td>1</td>\n",
       "    </tr>\n",
       "  </tbody>\n",
       "</table>\n",
       "</div>"
      ],
      "text/plain": [
       "   diagonal  height_left  height_right  margin_low  margin_up  length   id  \\\n",
       "0    171.76       104.01        103.54        5.21       3.30  111.42  A_1   \n",
       "1    171.87       104.17        104.13        6.00       3.31  112.09  A_2   \n",
       "2    172.00       104.58        104.29        4.99       3.39  111.57  A_3   \n",
       "3    172.49       104.55        104.34        4.44       3.03  113.20  A_4   \n",
       "4    171.65       103.63        103.56        3.77       3.16  113.33  A_5   \n",
       "\n",
       "   proba_vrai  classe_predite  \n",
       "0    0.004105               0  \n",
       "1    0.000340               0  \n",
       "2    0.001873               0  \n",
       "3   99.670829               1  \n",
       "4   99.998844               1  "
      ]
     },
     "execution_count": 7,
     "metadata": {},
     "output_type": "execute_result"
    }
   ],
   "source": [
    "df_predict = prediction_fichier('billets_production.csv')\n",
    "\n",
    "df_predict   "
   ]
  },
  {
   "cell_type": "code",
   "execution_count": null,
   "id": "2c05b836",
   "metadata": {},
   "outputs": [],
   "source": []
  }
 ],
 "metadata": {
  "kernelspec": {
   "display_name": "Python 3 (ipykernel)",
   "language": "python",
   "name": "python3"
  },
  "language_info": {
   "codemirror_mode": {
    "name": "ipython",
    "version": 3
   },
   "file_extension": ".py",
   "mimetype": "text/x-python",
   "name": "python",
   "nbconvert_exporter": "python",
   "pygments_lexer": "ipython3",
   "version": "3.9.7"
  },
  "toc": {
   "base_numbering": "",
   "nav_menu": {},
   "number_sections": false,
   "sideBar": true,
   "skip_h1_title": false,
   "title_cell": "Table of Contents",
   "title_sidebar": "Contents",
   "toc_cell": false,
   "toc_position": {},
   "toc_section_display": true,
   "toc_window_display": true
  }
 },
 "nbformat": 4,
 "nbformat_minor": 5
}
